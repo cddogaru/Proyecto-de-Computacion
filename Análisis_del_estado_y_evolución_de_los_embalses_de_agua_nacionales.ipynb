{
  "cells": [
    {
      "cell_type": "markdown",
      "metadata": {
        "id": "view-in-github",
        "colab_type": "text"
      },
      "source": [
        "<a href=\"https://colab.research.google.com/github/cddogaru/Proyecto-de-Computacion/blob/main/An%C3%A1lisis_del_estado_y_evoluci%C3%B3n_de_los_embalses_de_agua_nacionales.ipynb\" target=\"_parent\"><img src=\"https://colab.research.google.com/assets/colab-badge.svg\" alt=\"Open In Colab\"/></a>"
      ]
    },
    {
      "cell_type": "markdown",
      "metadata": {
        "id": "KXHEqRjEzExB"
      },
      "source": [
        "# **ANÁLISIS DEL ESTADO Y EVOLUCIÓN DE LOS EMBALSES DE AGUA NACIONALES**\n"
      ]
    },
    {
      "cell_type": "markdown",
      "metadata": {
        "id": "fuSIBbMbzm5L"
      },
      "source": [
        "Este notebook explica el trabajo de preprocesamiento, análisis y modelado para entender el estado y la evolución de la reserva hídrica en España. A lo largo del proyecto, se trabajará con datos históricos y geográficos para explorar tendencias, identificar patrones y realizar predicciones sobre el agua embalsada en el país.\n",
        "\n",
        "Antes de empezar con los análisis y modelos, se seguirán los siguientes pasos:\n",
        "\n",
        "\n"
      ]
    },
    {
      "cell_type": "markdown",
      "metadata": {
        "id": "EWxD9_583Jb6"
      },
      "source": [
        "# Pasos que se seguirán para preparar los datos\n",
        "1. Importación de librerías y configuración inicial.\n",
        "2. Carga de archivos de datos a utilizar.\n",
        "3. Modificación y ajuste de las variables.\n",
        "4. Detección y tratamiento de datos ausentes (NAs).\n",
        "5. Generación de nuevas variables.\n",
        "6. Enriquecimiento del dataset con datos climáticos y/o económicos.\n",
        "7. Análisis exploratorio de los datos.\n",
        "8. Modelado predictivo y comparativa de modelos.\n",
        "9. Visualización de resultados.\n",
        "10. Creación de tablas y exportación de datos.\n",
        "11. Desarrollo de un prototipo interactivo.\n",
        "12. Conclusiones y recomendaciones.\n",
        "\n",
        "\n",
        "\n"
      ]
    },
    {
      "cell_type": "markdown",
      "metadata": {
        "id": "_1sEcS8FZnqZ"
      },
      "source": [
        "## 1. Importación de librerias\n",
        "Lo primero que debemos hacer es instalar y cargar las librerías necesarias para el manejo, análisis y visualización de datos, además de configurar el entorno de trabajo. Usaremos algunas de las librerías más populares de Python para garantizar un flujo de trabajo eficiente.\n",
        "\n"
      ]
    },
    {
      "cell_type": "code",
      "execution_count": 18,
      "metadata": {
        "id": "b78JNY2_1-Py",
        "colab": {
          "base_uri": "https://localhost:8080/"
        },
        "outputId": "e97ac835-ab46-452e-bd8f-a84e99d52c83"
      },
      "outputs": [
        {
          "output_type": "stream",
          "name": "stdout",
          "text": [
            "Estilos disponibles en Matplotlib: ['Solarize_Light2', '_classic_test_patch', '_mpl-gallery', '_mpl-gallery-nogrid', 'bmh', 'classic', 'dark_background', 'fast', 'fivethirtyeight', 'ggplot', 'grayscale', 'petroff10', 'seaborn-v0_8', 'seaborn-v0_8-bright', 'seaborn-v0_8-colorblind', 'seaborn-v0_8-dark', 'seaborn-v0_8-dark-palette', 'seaborn-v0_8-darkgrid', 'seaborn-v0_8-deep', 'seaborn-v0_8-muted', 'seaborn-v0_8-notebook', 'seaborn-v0_8-paper', 'seaborn-v0_8-pastel', 'seaborn-v0_8-poster', 'seaborn-v0_8-talk', 'seaborn-v0_8-ticks', 'seaborn-v0_8-white', 'seaborn-v0_8-whitegrid', 'tableau-colorblind10']\n",
            "Librerías cargadas y entorno configurado correctamente.\n"
          ]
        }
      ],
      "source": [
        "try:\n",
        "    # Importamos las librerías a utilizar\n",
        "    import pandas as pd  # Manejo y análisis de datos\n",
        "    import numpy as np  # Operaciones matemáticas\n",
        "    import matplotlib.pyplot as plt  # Visualización básica\n",
        "    import seaborn as sns  # Visualización estadística avanzada\n",
        "    from sklearn.model_selection import train_test_split  # Dividir datos para modelado\n",
        "    from sklearn.linear_model import LinearRegression  # Modelo de regresión lineal\n",
        "    from statsmodels.tsa.arima.model import ARIMA  # Modelos ARIMA para series temporales\n",
        "\n",
        "    # Configuramos el entorno\n",
        "    import warnings\n",
        "    warnings.filterwarnings(\"ignore\")  # Ignoramos warnings para evitar distracciones\n",
        "\n",
        "    # Configuración de pandas para mostrar más datos\n",
        "    pd.set_option(\"display.max_columns\", None)\n",
        "    pd.set_option(\"display.max_rows\", 100)\n",
        "\n",
        "    # Configuramos el estilo de los gráficos\n",
        "    print(\"Estilos disponibles en Matplotlib:\", plt.style.available)\n",
        "    plt.style.use(\"ggplot\")  # Cambiamos a un estilo seguro como 'ggplot'\n",
        "    plt.rcParams[\"figure.figsize\"] = (10, 6)\n",
        "    plt.rcParams[\"font.size\"] = 12\n",
        "\n",
        "    # Confirmación de configuración\n",
        "    print(\"Librerías cargadas y entorno configurado correctamente.\")\n",
        "\n",
        "except ImportError as e:\n",
        "    print(f\"Error al importar librerías: {e}\")\n",
        "    print(\"Por favor, asegúrate de tener todas las librerías instaladas.\")\n"
      ]
    },
    {
      "cell_type": "markdown",
      "metadata": {
        "id": "qBvsEI0n3Wcx"
      },
      "source": [
        "## 2. Carga de datos\n",
        "\n",
        "Para realizar el análisis y predicciones sobre el agua embalsada, es necesario cargar los datasets que contienen información histórica y geográfica de los embalses. Estos archivos están alojados en un repositorio de GitHub.\n",
        "\n",
        "Archivos a cargar:\n",
        "Datos embalses: Contiene datos históricos sobre el volumen de agua embalsada en diferentes fechas.\n",
        "Embalses enriquecido: Contiene información geográfica y detalles adicionales sobre los embalses.\n"
      ]
    },
    {
      "cell_type": "code",
      "execution_count": 24,
      "metadata": {
        "id": "QH_QWctm3ZRk",
        "colab": {
          "base_uri": "https://localhost:8080/"
        },
        "outputId": "dcf728b7-47f1-4697-f752-9fc95f6b6c68"
      },
      "outputs": [
        {
          "output_type": "stream",
          "name": "stdout",
          "text": [
            "Datos embalses cargados con éxito.\n",
            "Embalses enriquecido cargado con éxito.\n",
            "\n",
            "Resumen de 'Datos embalses':\n",
            "<class 'pandas.core.frame.DataFrame'>\n",
            "RangeIndex: 637606 entries, 0 to 637605\n",
            "Data columns (total 6 columns):\n",
            " #   Column          Non-Null Count   Dtype         \n",
            "---  ------          --------------   -----         \n",
            " 0   AMBITO_NOMBRE   637606 non-null  object        \n",
            " 1   EMBALSE_NOMBRE  637606 non-null  object        \n",
            " 2   FECHA           637606 non-null  datetime64[ns]\n",
            " 3   AGUA_TOTAL      637604 non-null  object        \n",
            " 4   AGUA_ACTUAL     637604 non-null  object        \n",
            " 5   ELECTRICO_FLAG  637606 non-null  int64         \n",
            "dtypes: datetime64[ns](1), int64(1), object(4)\n",
            "memory usage: 29.2+ MB\n",
            "None\n",
            "\n",
            "Primeras filas de 'Datos embalses':\n",
            "  AMBITO_NOMBRE EMBALSE_NOMBRE      FECHA AGUA_TOTAL AGUA_ACTUAL  \\\n",
            "0    Miño - Sil     Albarellos 1988-01-05      91,00       32,00   \n",
            "1    Miño - Sil     Albarellos 1988-01-12      91,00       44,00   \n",
            "2    Miño - Sil     Albarellos 1988-01-19      91,00       42,00   \n",
            "3    Miño - Sil     Albarellos 1988-01-26      91,00       43,00   \n",
            "4    Miño - Sil     Albarellos 1988-02-02      91,00       65,00   \n",
            "\n",
            "   ELECTRICO_FLAG  \n",
            "0               1  \n",
            "1               1  \n",
            "2               1  \n",
            "3               1  \n",
            "4               1  \n",
            "\n",
            "Resumen de 'Embalses enriquecido':\n",
            "<class 'pandas.core.frame.DataFrame'>\n",
            "RangeIndex: 367 entries, 0 to 366\n",
            "Data columns (total 33 columns):\n",
            " #   Column                     Non-Null Count  Dtype  \n",
            "---  ------                     --------------  -----  \n",
            " 0   X                          367 non-null    float64\n",
            " 1   Y                          367 non-null    float64\n",
            " 2   INFORME                    367 non-null    object \n",
            " 3   ID_INFRAES                 367 non-null    int64  \n",
            " 4   CODIGO                     367 non-null    int64  \n",
            " 5   NOMBRE                     367 non-null    object \n",
            " 6   EMBALSE                    367 non-null    object \n",
            " 7   Wikidata                   187 non-null    object \n",
            " 8   Google Knowledge Graph ID  115 non-null    object \n",
            " 9   Google                     115 non-null    object \n",
            " 10  OpenStreetMap relation ID  36 non-null     float64\n",
            " 11  OpenStreetMap              36 non-null     object \n",
            " 12  image                      157 non-null    object \n",
            " 13  Imagen                     157 non-null    object \n",
            " 14  FASE                       367 non-null    object \n",
            " 15  TITULAR                    367 non-null    object \n",
            " 16  CATEGORIA                  367 non-null    object \n",
            " 17  CAUCE                      359 non-null    object \n",
            " 18  DEMARC                     367 non-null    object \n",
            " 19  PROVINCIA                  367 non-null    object \n",
            " 20  CCAA                       367 non-null    object \n",
            " 21  TIPO                       367 non-null    object \n",
            " 22  USUARIOS                   353 non-null    object \n",
            " 23  USO                        367 non-null    object \n",
            " 24  SUP_CUENCA                 166 non-null    float64\n",
            " 25  AP_M_ANUAL                 169 non-null    float64\n",
            " 26  NMN_CAPAC                  367 non-null    float64\n",
            " 27  NMN_SUP                    363 non-null    float64\n",
            " 28  COTA_CORON                 184 non-null    float64\n",
            " 29  ALT_CIMIEN                 184 non-null    float64\n",
            " 30  LONG_CORON                 184 non-null    float64\n",
            " 31  CAP_AL_NAE                 323 non-null    float64\n",
            " 32  CAP_MAX_DF                 298 non-null    float64\n",
            "dtypes: float64(12), int64(2), object(19)\n",
            "memory usage: 94.7+ KB\n",
            "None\n",
            "\n",
            "Primeras filas de 'Embalses enriquecido':\n",
            "           X         Y                                            INFORME  \\\n",
            "0  36.153615 -5.649731  https://sig.mapama.gob.es/WebServices/clientew...   \n",
            "1  42.722873 -0.462684  https://sig.mapama.gob.es/WebServices/clientew...   \n",
            "2  38.095562 -3.831098  https://sig.mapama.gob.es/WebServices/clientew...   \n",
            "3  43.277118 -1.773747  https://sig.mapama.gob.es/WebServices/clientew...   \n",
            "4  38.060263 -1.487653  https://sig.mapama.gob.es/WebServices/clientew...   \n",
            "\n",
            "   ID_INFRAES   CODIGO      NOMBRE               EMBALSE  \\\n",
            "0        1364  5110039   ALMODOVAR  Embalse de Almodóvar   \n",
            "1        2482  9220067  IBON DE IP          Ip reservoir   \n",
            "2        1543  5230007     ZOCUECA               ZOCUECA   \n",
            "3          84  1310009   SAN ANTON             SAN ANTON   \n",
            "4        2057  7300021  CIERVA, LA  Embalse de la Cierva   \n",
            "\n",
            "                                   Wikidata Google Knowledge Graph ID Google  \\\n",
            "0    https://www.wikidata.org/wiki/Q5369429                       NaN    NaN   \n",
            "1   https://www.wikidata.org/wiki/Q23999337                       NaN    NaN   \n",
            "2                                       NaN                       NaN    NaN   \n",
            "3                                       NaN                       NaN    NaN   \n",
            "4  https://www.wikidata.org/wiki/Q107738426                       NaN    NaN   \n",
            "\n",
            "   OpenStreetMap relation ID OpenStreetMap image Imagen         FASE  \\\n",
            "0                        NaN           NaN   NaN    NaN  Explotación   \n",
            "1                        NaN           NaN   NaN    NaN  Explotación   \n",
            "2                        NaN           NaN   NaN    NaN  Explotación   \n",
            "3                        NaN           NaN   NaN    NaN  Explotación   \n",
            "4                        NaN           NaN   NaN    NaN  Explotación   \n",
            "\n",
            "                                             TITULAR CATEGORIA  \\\n",
            "0  JUNTA DE ANDALUCIA. AGENCIA ANDALUZA DEL AGUA\\...         A   \n",
            "1  ELECTRICAS REUNIDAS DE ZARAGOZA\\ncorporacion a...         A   \n",
            "2  ESTADO\\nCONFEDERACION HIDROGRAFICA DEL GUADALQ...         A   \n",
            "3              MANCOMUNIDAD DE SERVICIOS DE TXINGUDI         A   \n",
            "4      ESTADO\\nCONFEDERACION HIDROGRAFICA DEL SEGURA         A   \n",
            "\n",
            "            CAUCE               DEMARC PROVINCIA                        CCAA  \\\n",
            "0   RÍO ALMODÓVAR  GUADALETE Y BARBATE     Cádiz                   Andalucía   \n",
            "1  BARRANCO DE IP                 EBRO    Huesca                      Aragón   \n",
            "2    RÍO  RUMBLAR         GUADALQUIVIR      Jaén                   Andalucía   \n",
            "3      RIO ENDARA  CANTABRICO ORIENTAL   Navarra  Comunidad Foral de Navarra   \n",
            "4        RIO MULA               SEGURA    Murcia            Región de Murcia   \n",
            "\n",
            "                                                TIPO USUARIOS  \\\n",
            "0    Presa de fábrica de gravedad (hormigón vibrado)     -\\n-   \n",
            "1  Presa de materiales sueltos zonificada o de nú...        -   \n",
            "2    Presa de fábrica de gravedad (hormigón vibrado)     -\\n-   \n",
            "3  Presa de materiales sueltos de pantalla de hor...        -   \n",
            "4                    Presa de fábrica de mampostería      NaN   \n",
            "\n",
            "                                       USO  SUP_CUENCA  AP_M_ANUAL  NMN_CAPAC  \\\n",
            "0  Abastecimiento\\nDefensa frente avenidas        16.5        0.00      5.000   \n",
            "1                           Hidroeléctrico         8.0        4.56      5.000   \n",
            "2  Abastecimiento\\nDefensa frente avenidas         NaN         NaN      5.000   \n",
            "3                           Abastecimiento        10.5       20.00      5.091   \n",
            "4  Abastecimiento\\nDefensa frente avenidas         NaN         NaN      5.130   \n",
            "\n",
            "    NMN_SUP  COTA_CORON  ALT_CIMIEN  LONG_CORON  CAP_AL_NAE  CAP_MAX_DF  \n",
            "0  650200.0       107.2        40.0       126.0         0.0         NaN  \n",
            "1  270000.0      2119.0        31.0       158.0         0.0       20.00  \n",
            "2  480000.0         NaN         NaN         NaN         0.0         NaN  \n",
            "3  278170.0       247.0        56.8       210.0         0.0      150.48  \n",
            "4  432000.0         NaN         NaN         NaN         0.0   366000.00  \n",
            "\n",
            "Datos embalses tras ajustes:\n",
            "<class 'pandas.core.frame.DataFrame'>\n",
            "RangeIndex: 637606 entries, 0 to 637605\n",
            "Data columns (total 5 columns):\n",
            " #   Column          Non-Null Count   Dtype         \n",
            "---  ------          --------------   -----         \n",
            " 0   AMBITO_NOMBRE   637606 non-null  object        \n",
            " 1   EMBALSE_NOMBRE  637606 non-null  object        \n",
            " 2   FECHA           637606 non-null  datetime64[ns]\n",
            " 3   AGUA_TOTAL      637604 non-null  float64       \n",
            " 4   AGUA_ACTUAL     637604 non-null  float64       \n",
            "dtypes: datetime64[ns](1), float64(2), object(2)\n",
            "memory usage: 24.3+ MB\n",
            "None\n",
            "  AMBITO_NOMBRE EMBALSE_NOMBRE      FECHA  AGUA_TOTAL  AGUA_ACTUAL\n",
            "0    Miño - Sil     Albarellos 1988-01-05        91.0         32.0\n",
            "1    Miño - Sil     Albarellos 1988-01-12        91.0         44.0\n",
            "2    Miño - Sil     Albarellos 1988-01-19        91.0         42.0\n",
            "3    Miño - Sil     Albarellos 1988-01-26        91.0         43.0\n",
            "4    Miño - Sil     Albarellos 1988-02-02        91.0         65.0\n",
            "\n",
            "Embalses enriquecido tras ajustes:\n",
            "<class 'pandas.core.frame.DataFrame'>\n",
            "RangeIndex: 367 entries, 0 to 366\n",
            "Data columns (total 26 columns):\n",
            " #   Column      Non-Null Count  Dtype  \n",
            "---  ------      --------------  -----  \n",
            " 0   X           367 non-null    float64\n",
            " 1   Y           367 non-null    float64\n",
            " 2   INFORME     367 non-null    object \n",
            " 3   ID_INFRAES  367 non-null    int64  \n",
            " 4   CODIGO      367 non-null    int64  \n",
            " 5   NOMBRE      367 non-null    object \n",
            " 6   EMBALSE     367 non-null    object \n",
            " 7   FASE        367 non-null    object \n",
            " 8   TITULAR     367 non-null    object \n",
            " 9   CATEGORIA   367 non-null    object \n",
            " 10  CAUCE       359 non-null    object \n",
            " 11  DEMARC      367 non-null    object \n",
            " 12  PROVINCIA   367 non-null    object \n",
            " 13  CCAA        367 non-null    object \n",
            " 14  TIPO        367 non-null    object \n",
            " 15  USUARIOS    353 non-null    object \n",
            " 16  USO         367 non-null    object \n",
            " 17  SUP_CUENCA  166 non-null    float64\n",
            " 18  AP_M_ANUAL  169 non-null    float64\n",
            " 19  NMN_CAPAC   367 non-null    float64\n",
            " 20  NMN_SUP     363 non-null    float64\n",
            " 21  COTA_CORON  184 non-null    float64\n",
            " 22  ALT_CIMIEN  184 non-null    float64\n",
            " 23  LONG_CORON  184 non-null    float64\n",
            " 24  CAP_AL_NAE  323 non-null    float64\n",
            " 25  CAP_MAX_DF  298 non-null    float64\n",
            "dtypes: float64(11), int64(2), object(13)\n",
            "memory usage: 74.7+ KB\n",
            "None\n",
            "           X         Y                                            INFORME  \\\n",
            "0  36.153615 -5.649731  https://sig.mapama.gob.es/WebServices/clientew...   \n",
            "1  42.722873 -0.462684  https://sig.mapama.gob.es/WebServices/clientew...   \n",
            "2  38.095562 -3.831098  https://sig.mapama.gob.es/WebServices/clientew...   \n",
            "3  43.277118 -1.773747  https://sig.mapama.gob.es/WebServices/clientew...   \n",
            "4  38.060263 -1.487653  https://sig.mapama.gob.es/WebServices/clientew...   \n",
            "\n",
            "   ID_INFRAES   CODIGO      NOMBRE               EMBALSE         FASE  \\\n",
            "0        1364  5110039   ALMODOVAR  Embalse de Almodóvar  Explotación   \n",
            "1        2482  9220067  IBON DE IP          Ip reservoir  Explotación   \n",
            "2        1543  5230007     ZOCUECA               ZOCUECA  Explotación   \n",
            "3          84  1310009   SAN ANTON             SAN ANTON  Explotación   \n",
            "4        2057  7300021  CIERVA, LA  Embalse de la Cierva  Explotación   \n",
            "\n",
            "                                             TITULAR CATEGORIA  \\\n",
            "0  JUNTA DE ANDALUCIA. AGENCIA ANDALUZA DEL AGUA\\...         A   \n",
            "1  ELECTRICAS REUNIDAS DE ZARAGOZA\\ncorporacion a...         A   \n",
            "2  ESTADO\\nCONFEDERACION HIDROGRAFICA DEL GUADALQ...         A   \n",
            "3              MANCOMUNIDAD DE SERVICIOS DE TXINGUDI         A   \n",
            "4      ESTADO\\nCONFEDERACION HIDROGRAFICA DEL SEGURA         A   \n",
            "\n",
            "            CAUCE               DEMARC PROVINCIA                        CCAA  \\\n",
            "0   RÍO ALMODÓVAR  GUADALETE Y BARBATE     Cádiz                   Andalucía   \n",
            "1  BARRANCO DE IP                 EBRO    Huesca                      Aragón   \n",
            "2    RÍO  RUMBLAR         GUADALQUIVIR      Jaén                   Andalucía   \n",
            "3      RIO ENDARA  CANTABRICO ORIENTAL   Navarra  Comunidad Foral de Navarra   \n",
            "4        RIO MULA               SEGURA    Murcia            Región de Murcia   \n",
            "\n",
            "                                                TIPO USUARIOS  \\\n",
            "0    Presa de fábrica de gravedad (hormigón vibrado)     -\\n-   \n",
            "1  Presa de materiales sueltos zonificada o de nú...        -   \n",
            "2    Presa de fábrica de gravedad (hormigón vibrado)     -\\n-   \n",
            "3  Presa de materiales sueltos de pantalla de hor...        -   \n",
            "4                    Presa de fábrica de mampostería      NaN   \n",
            "\n",
            "                                      USO  SUP_CUENCA  AP_M_ANUAL  NMN_CAPAC  \\\n",
            "0  Abastecimiento Defensa frente avenidas        16.5        0.00      5.000   \n",
            "1                          Hidroeléctrico         8.0        4.56      5.000   \n",
            "2  Abastecimiento Defensa frente avenidas         NaN         NaN      5.000   \n",
            "3                          Abastecimiento        10.5       20.00      5.091   \n",
            "4  Abastecimiento Defensa frente avenidas         NaN         NaN      5.130   \n",
            "\n",
            "    NMN_SUP  COTA_CORON  ALT_CIMIEN  LONG_CORON  CAP_AL_NAE  CAP_MAX_DF  \n",
            "0  650200.0       107.2        40.0       126.0         0.0         NaN  \n",
            "1  270000.0      2119.0        31.0       158.0         0.0       20.00  \n",
            "2  480000.0         NaN         NaN         NaN         0.0         NaN  \n",
            "3  278170.0       247.0        56.8       210.0         0.0      150.48  \n",
            "4  432000.0         NaN         NaN         NaN         0.0   366000.00  \n"
          ]
        }
      ],
      "source": [
        "# Importamos pandas para manejar los datasets\n",
        "import pandas as pd\n",
        "\n",
        "# URLs de los archivos en el repositorio de GitHub\n",
        "url_historicos = \"https://raw.githubusercontent.com/cddogaru/Proyecto-de-Computaci-n-I/main/Datos%20embalses.xlsx\"\n",
        "url_geo = \"https://raw.githubusercontent.com/cddogaru/Proyecto-de-Computaci-n-I/main/Embalses_enriquecido.xlsx\"\n",
        "\n",
        "# Cargar los datasets desde GitHub\n",
        "try:\n",
        "    # Cargar archivo histórico\n",
        "    embalses = pd.read_excel(url_historicos)\n",
        "    print(\"Datos embalses cargados con éxito.\")\n",
        "\n",
        "    # Cargar archivo geográfico\n",
        "    embalses_geo = pd.read_excel(url_geo)\n",
        "    print(\"Embalses enriquecido cargado con éxito.\")\n",
        "except Exception as e:\n",
        "    print(f\"Error al cargar los datasets: {e}\")\n",
        "\n",
        "# Resumen de los datos históricos\n",
        "print(\"\\nResumen de 'Datos embalses':\")\n",
        "print(embalses.info())\n",
        "print(\"\\nPrimeras filas de 'Datos embalses':\")\n",
        "print(embalses.head())\n",
        "\n",
        "# Resumen de los datos geográficos\n",
        "print(\"\\nResumen de 'Embalses enriquecido':\")\n",
        "print(embalses_geo.info())\n",
        "print(\"\\nPrimeras filas de 'Embalses enriquecido':\")\n",
        "print(embalses_geo.head())\n",
        "\n",
        "# --- Ajustes en Datos embalses ---\n",
        "# Convertimos las columnas AGUA_TOTAL y AGUA_ACTUAL a formato numérico\n",
        "embalses[\"AGUA_TOTAL\"] = pd.to_numeric(embalses[\"AGUA_TOTAL\"].str.replace(\",\", \".\"), errors=\"coerce\")\n",
        "embalses[\"AGUA_ACTUAL\"] = pd.to_numeric(embalses[\"AGUA_ACTUAL\"].str.replace(\",\", \".\"), errors=\"coerce\")\n",
        "\n",
        "# Eliminamos la columna ELECTRICO_FLAG si no es relevante\n",
        "if \"ELECTRICO_FLAG\" in embalses.columns:\n",
        "    embalses.drop(columns=[\"ELECTRICO_FLAG\"], inplace=True)\n",
        "\n",
        "# Verificamos los cambios en Datos embalses\n",
        "print(\"\\nDatos embalses tras ajustes:\")\n",
        "print(embalses.info())\n",
        "print(embalses.head())\n",
        "\n",
        "# --- Ajustes en Embalses enriquecido ---\n",
        "# Limpiamos la columna USO para eliminar caracteres innecesarios\n",
        "embalses_geo[\"USO\"] = embalses_geo[\"USO\"].str.replace(\"\\n\", \" \").str.strip()\n",
        "\n",
        "# Eliminamos columnas con demasiados valores nulos si no son críticas para el análisis\n",
        "columnas_a_eliminar = [\"Google Knowledge Graph ID\", \"Google\", \"Wikidata\",\n",
        "                       \"OpenStreetMap relation ID\", \"OpenStreetMap\", \"image\", \"Imagen\"]\n",
        "embalses_geo.drop(columns=[col for col in columnas_a_eliminar if col in embalses_geo.columns], inplace=True)\n",
        "\n",
        "# Verificamos los cambios en Embalses enriquecido\n",
        "print(\"\\nEmbalses enriquecido tras ajustes:\")\n",
        "print(embalses_geo.info())\n",
        "print(embalses_geo.head())"
      ]
    },
    {
      "cell_type": "markdown",
      "metadata": {
        "id": "69yoSvTMOudb"
      },
      "source": [
        "Estructura Documentada del Punto 2\n",
        "\n",
        "1. Explicación Breve: Introducimos el propósito de cargar los datos y describimos los archivos utilizados.\n",
        "\n",
        "2. Cargar Datos: Se usan las URLs de los archivos en GitHub para cargarlos directamente en el entorno Colab.\n",
        "\n",
        "3. Validación:\n",
        "\n",
        "  *   Se usa info() para mostrar un resumen de los datos (columnas, tipos,  \n",
        "    valores nulos).\n",
        "  *   Se usa head() para visualizar las primeras filas y asegurarnos de que los datos se cargaron correctamente."
      ]
    },
    {
      "cell_type": "markdown",
      "metadata": {
        "id": "vSaj9zvDWEuh"
      },
      "source": [
        "## 3. Modificación y ajuste de las variables\n",
        "\n",
        "Para realizar un análisis adecuado, es importante limpiar y ajustar las variables de los datasets cargados. Esto incluye renombrar columnas, ajustar los tipos de datos, eliminar columnas irrelevantes y crear nuevas variables cuando sea necesario.\n",
        "\n",
        "*   Renombrar columnas: Los nombres de las columnas se ajustan para que sean más descriptivos y consistentes.\n",
        "\n",
        "*   Ajustar tipos de datos: Se convierten columnas a formatos adecuados, como datetime para fechas y float para números.\n",
        "\n",
        "*   Ajustar tipos de datos: Se convierten columnas a formatos adecuados, como datetime para fechas y float para números.\n",
        "\n",
        "*   Eliminar columnas irrelevantes: Se eliminan aquellas columnas que no aportan valor al análisis.\n",
        "\n",
        "*    Crear nuevas variables: Se combinan las coordenadas en una sola columna en el dataset geográfico.\n",
        "\n",
        "\n"
      ]
    },
    {
      "cell_type": "markdown",
      "metadata": {
        "id": "U1LXtAXNUAa8"
      },
      "source": [
        "**Ajuste del Dataset de Datos Históricos**"
      ]
    },
    {
      "cell_type": "code",
      "execution_count": 25,
      "metadata": {
        "id": "vAXtcZzVWEHA",
        "colab": {
          "base_uri": "https://localhost:8080/"
        },
        "outputId": "d804999f-6fa7-4128-dcec-1ca9318128f9"
      },
      "outputs": [
        {
          "output_type": "stream",
          "name": "stdout",
          "text": [
            "Advertencia: La columna 'ELECTRICO_FLAG' no se encuentra en el dataset.\n",
            "\n",
            "Dataset 'Datos embalses' tras ajustes:\n",
            "<class 'pandas.core.frame.DataFrame'>\n",
            "RangeIndex: 637606 entries, 0 to 637605\n",
            "Data columns (total 5 columns):\n",
            " #   Column                    Non-Null Count   Dtype         \n",
            "---  ------                    --------------   -----         \n",
            " 0   demarcacion_hidrografica  637606 non-null  object        \n",
            " 1   EMBALSE_NOMBRE            637606 non-null  object        \n",
            " 2   fecha                     637606 non-null  datetime64[ns]\n",
            " 3   capacidad_total           637604 non-null  float64       \n",
            " 4   volumen_actual            637604 non-null  float64       \n",
            "dtypes: datetime64[ns](1), float64(2), object(2)\n",
            "memory usage: 24.3+ MB\n",
            "None\n",
            "  demarcacion_hidrografica EMBALSE_NOMBRE      fecha  capacidad_total  \\\n",
            "0               Miño - Sil     Albarellos 1988-01-05             91.0   \n",
            "1               Miño - Sil     Albarellos 1988-01-12             91.0   \n",
            "2               Miño - Sil     Albarellos 1988-01-19             91.0   \n",
            "3               Miño - Sil     Albarellos 1988-01-26             91.0   \n",
            "4               Miño - Sil     Albarellos 1988-02-02             91.0   \n",
            "\n",
            "   volumen_actual  \n",
            "0            32.0  \n",
            "1            44.0  \n",
            "2            42.0  \n",
            "3            43.0  \n",
            "4            65.0  \n"
          ]
        }
      ],
      "source": [
        "# Renombramos columnas para mayor claridad\n",
        "columnas_a_renombrar = {\n",
        "    \"FECHA\": \"fecha\",\n",
        "    \"AGUA_TOTAL\": \"capacidad_total\",\n",
        "    \"AGUA_ACTUAL\": \"volumen_actual\",\n",
        "    \"AMBITO_NOMBRE\": \"demarcacion_hidrografica\"\n",
        "}\n",
        "\n",
        "# Verificamos si las columnas existen antes de renombrar para evitar errores\n",
        "columnas_existentes = [col for col in columnas_a_renombrar.keys() if col in embalses.columns]\n",
        "if columnas_existentes:\n",
        "    embalses = embalses.rename(columns={col: columnas_a_renombrar[col] for col in columnas_existentes})\n",
        "else:\n",
        "    print(\"Advertencia: Ninguna de las columnas a renombrar se encontró en el dataset.\")\n",
        "\n",
        "# Convertimos el formato de fecha\n",
        "try:\n",
        "    embalses[\"fecha\"] = pd.to_datetime(embalses[\"fecha\"], errors=\"coerce\")\n",
        "except KeyError:\n",
        "    print(\"Advertencia: La columna 'fecha' no se encuentra en el dataset.\")\n",
        "\n",
        "# Convertimos columnas numéricas al tipo float\n",
        "for columna in [\"capacidad_total\", \"volumen_actual\"]:\n",
        "    if columna in embalses.columns:\n",
        "        embalses[columna] = pd.to_numeric(embalses[columna], errors=\"coerce\")\n",
        "    else:\n",
        "        print(f\"Advertencia: La columna '{columna}' no se encuentra en el dataset.\")\n",
        "\n",
        "# Eliminamos columnas innecesarias\n",
        "if \"ELECTRICO_FLAG\" in embalses.columns:\n",
        "    embalses = embalses.drop(columns=[\"ELECTRICO_FLAG\"])\n",
        "else:\n",
        "    print(\"Advertencia: La columna 'ELECTRICO_FLAG' no se encuentra en el dataset.\")\n",
        "\n",
        "# Verificamos los cambios\n",
        "print(\"\\nDataset 'Datos embalses' tras ajustes:\")\n",
        "print(embalses.info())\n",
        "print(embalses.head())"
      ]
    },
    {
      "cell_type": "markdown",
      "metadata": {
        "id": "eNeXkO5GFpdt"
      },
      "source": [
        "**Ajuste del Dataset Geográfico**"
      ]
    },
    {
      "cell_type": "code",
      "execution_count": 29,
      "metadata": {
        "id": "DUSV60R2FdHJ",
        "colab": {
          "base_uri": "https://localhost:8080/"
        },
        "outputId": "e08aa320-5667-4c35-a6a1-a9422f2c25aa"
      },
      "outputs": [
        {
          "output_type": "stream",
          "name": "stdout",
          "text": [
            "\n",
            "Dataset 'Embalses enriquecido' tras ajustes:\n",
            "<class 'pandas.core.frame.DataFrame'>\n",
            "RangeIndex: 367 entries, 0 to 366\n",
            "Data columns (total 27 columns):\n",
            " #   Column          Non-Null Count  Dtype  \n",
            "---  ------          --------------  -----  \n",
            " 0   coordenada_x    367 non-null    float64\n",
            " 1   coordenada_y    367 non-null    float64\n",
            " 2   INFORME         367 non-null    object \n",
            " 3   ID_INFRAES      367 non-null    int64  \n",
            " 4   CODIGO          367 non-null    int64  \n",
            " 5   nombre_embalse  367 non-null    object \n",
            " 6   EMBALSE         367 non-null    object \n",
            " 7   FASE            367 non-null    object \n",
            " 8   TITULAR         367 non-null    object \n",
            " 9   CATEGORIA       367 non-null    object \n",
            " 10  CAUCE           367 non-null    object \n",
            " 11  DEMARC          367 non-null    object \n",
            " 12  PROVINCIA       367 non-null    object \n",
            " 13  CCAA            367 non-null    object \n",
            " 14  TIPO            367 non-null    object \n",
            " 15  USUARIOS        367 non-null    object \n",
            " 16  USO             367 non-null    object \n",
            " 17  SUP_CUENCA      367 non-null    float64\n",
            " 18  AP_M_ANUAL      367 non-null    float64\n",
            " 19  NMN_CAPAC       367 non-null    float64\n",
            " 20  NMN_SUP         363 non-null    float64\n",
            " 21  COTA_CORON      367 non-null    float64\n",
            " 22  ALT_CIMIEN      367 non-null    float64\n",
            " 23  LONG_CORON      184 non-null    float64\n",
            " 24  CAP_AL_NAE      323 non-null    float64\n",
            " 25  CAP_MAX_DF      298 non-null    float64\n",
            " 26  coordenadas     367 non-null    object \n",
            "dtypes: float64(11), int64(2), object(14)\n",
            "memory usage: 77.5+ KB\n",
            "None\n",
            "   coordenada_x  coordenada_y  \\\n",
            "0     36.153615     -5.649731   \n",
            "1     42.722873     -0.462684   \n",
            "2     38.095562     -3.831098   \n",
            "3     43.277118     -1.773747   \n",
            "4     38.060263     -1.487653   \n",
            "\n",
            "                                             INFORME  ID_INFRAES   CODIGO  \\\n",
            "0  https://sig.mapama.gob.es/WebServices/clientew...        1364  5110039   \n",
            "1  https://sig.mapama.gob.es/WebServices/clientew...        2482  9220067   \n",
            "2  https://sig.mapama.gob.es/WebServices/clientew...        1543  5230007   \n",
            "3  https://sig.mapama.gob.es/WebServices/clientew...          84  1310009   \n",
            "4  https://sig.mapama.gob.es/WebServices/clientew...        2057  7300021   \n",
            "\n",
            "  nombre_embalse               EMBALSE         FASE  \\\n",
            "0      ALMODOVAR  Embalse de Almodóvar  Explotación   \n",
            "1     IBON DE IP          Ip reservoir  Explotación   \n",
            "2        ZOCUECA               ZOCUECA  Explotación   \n",
            "3      SAN ANTON             SAN ANTON  Explotación   \n",
            "4     CIERVA, LA  Embalse de la Cierva  Explotación   \n",
            "\n",
            "                                             TITULAR CATEGORIA  \\\n",
            "0  JUNTA DE ANDALUCIA. AGENCIA ANDALUZA DEL AGUA ...         A   \n",
            "1  ELECTRICAS REUNIDAS DE ZARAGOZA corporacion ac...         A   \n",
            "2  ESTADO CONFEDERACION HIDROGRAFICA DEL GUADALQU...         A   \n",
            "3              MANCOMUNIDAD DE SERVICIOS DE TXINGUDI         A   \n",
            "4       ESTADO CONFEDERACION HIDROGRAFICA DEL SEGURA         A   \n",
            "\n",
            "            CAUCE               DEMARC PROVINCIA                        CCAA  \\\n",
            "0   RÍO ALMODÓVAR  GUADALETE Y BARBATE     Cádiz                   Andalucía   \n",
            "1  BARRANCO DE IP                 EBRO    Huesca                      Aragón   \n",
            "2    RÍO  RUMBLAR         GUADALQUIVIR      Jaén                   Andalucía   \n",
            "3      RIO ENDARA  CANTABRICO ORIENTAL   Navarra  Comunidad Foral de Navarra   \n",
            "4        RIO MULA               SEGURA    Murcia            Región de Murcia   \n",
            "\n",
            "                                                TIPO         USUARIOS  \\\n",
            "0    Presa de fábrica de gravedad (hormigón vibrado)              - -   \n",
            "1  Presa de materiales sueltos zonificada o de nú...                -   \n",
            "2    Presa de fábrica de gravedad (hormigón vibrado)              - -   \n",
            "3  Presa de materiales sueltos de pantalla de hor...                -   \n",
            "4                    Presa de fábrica de mampostería  No especificado   \n",
            "\n",
            "                                      USO  SUP_CUENCA  AP_M_ANUAL  NMN_CAPAC  \\\n",
            "0  Abastecimiento Defensa frente avenidas        16.5        0.00      5.000   \n",
            "1                          Hidroeléctrico         8.0        4.56      5.000   \n",
            "2  Abastecimiento Defensa frente avenidas       370.0      100.00      5.000   \n",
            "3                          Abastecimiento        10.5       20.00      5.091   \n",
            "4  Abastecimiento Defensa frente avenidas       370.0      100.00      5.130   \n",
            "\n",
            "    NMN_SUP  COTA_CORON  ALT_CIMIEN  LONG_CORON  CAP_AL_NAE  CAP_MAX_DF  \\\n",
            "0  650200.0     107.200        40.0       126.0         0.0         NaN   \n",
            "1  270000.0    2119.000        31.0       158.0         0.0       20.00   \n",
            "2  480000.0     498.525        51.5         NaN         0.0         NaN   \n",
            "3  278170.0     247.000        56.8       210.0         0.0      150.48   \n",
            "4  432000.0     498.525        51.5         NaN         0.0   366000.00   \n",
            "\n",
            "                            coordenadas  \n",
            "0   36.1536149680001, -5.64973106899993  \n",
            "1  42.7228732190001, -0.462683542999969  \n",
            "2       38.095561881, -3.83109787299998  \n",
            "3       43.277117956, -1.77374675199997  \n",
            "4   38.0602631900001, -1.48765333199998  \n"
          ]
        }
      ],
      "source": [
        "# Renombramos columnas para mayor claridad\n",
        "columnas_a_renombrar = {\n",
        "    \"NOMBRE\": \"nombre_embalse\",\n",
        "    \"X\": \"coordenada_x\",\n",
        "    \"Y\": \"coordenada_y\",\n",
        "}\n",
        "embalses_geo = embalses_geo.rename(columns=columnas_a_renombrar)\n",
        "\n",
        "# Combinamos coordenadas en una nueva columna\n",
        "embalses_geo[\"coordenadas\"] = (\n",
        "    embalses_geo[\"coordenada_x\"].astype(str) + \", \" + embalses_geo[\"coordenada_y\"].astype(str)\n",
        ")\n",
        "\n",
        "# Limpieza de texto en columnas categóricas\n",
        "columnas_a_limpiar = [\"TITULAR\", \"CAUCE\", \"USUARIOS\", \"USO\"]\n",
        "for col in columnas_a_limpiar:\n",
        "    embalses_geo[col] = embalses_geo[col].str.replace(\"\\n\", \" \").str.strip()\n",
        "\n",
        "# Reemplazo de valores nulos\n",
        "embalses_geo[\"CAUCE\"].fillna(\"Desconocido\", inplace=True)\n",
        "embalses_geo[\"USUARIOS\"].fillna(\"No especificado\", inplace=True)\n",
        "columnas_numericas = [\"SUP_CUENCA\", \"AP_M_ANUAL\", \"COTA_CORON\", \"ALT_CIMIEN\"]\n",
        "for col in columnas_numericas:\n",
        "    embalses_geo[col].fillna(embalses_geo[col].median(), inplace=True)\n",
        "\n",
        "# Verificamos los cambios\n",
        "print(\"\\nDataset 'Embalses enriquecido' tras ajustes:\")\n",
        "print(embalses_geo.info())\n",
        "print(embalses_geo.head())"
      ]
    },
    {
      "cell_type": "markdown",
      "source": [
        "**Resultados Esperados**\n",
        "*   Dataset de datos históricos: Los nombres de las columnas serán más claros, las fechas estarán en formato datetime, y los valores numéricos estarán en formato float.\n",
        "\n",
        "*   Dataset geográfico: Tendremos coordenadas combinadas en una nueva columna, y se eliminarán columnas irrelevantes."
      ],
      "metadata": {
        "id": "g4qQiwLwh6Rm"
      }
    },
    {
      "cell_type": "markdown",
      "metadata": {
        "id": "JTwy42eMNd-Y"
      },
      "source": [
        "## **4. Detección y Tratamiento de Datos Ausentes (NAs)**\n",
        "\n",
        "En esta etapa, identificamos y tratamos los valores ausentes en ambos datasets para garantizar que los datos estén completos y listos para el análisis. Los pasos realizados incluyen:\n",
        "\n",
        "1. **Identificar valores ausentes:** Verificamos la cantidad de valores nulos en cada columna.\n",
        "2. **Tratamiento de valores ausentes:**\n",
        "   - Se eliminan filas con valores nulos en columnas críticas.\n",
        "   - Se rellenan valores faltantes en columnas menos críticas con valores predeterminados.\n",
        "\n",
        "### **Detección de Valores Ausentes**"
      ]
    },
    {
      "cell_type": "code",
      "source": [
        "# Tratamiento de valores ausentes en 'Datos embalses'\n",
        "embalses[\"capacidad_total\"].fillna(embalses[\"capacidad_total\"].mean(), inplace=True)\n",
        "embalses[\"volumen_actual\"].fillna(embalses[\"volumen_actual\"].mean(), inplace=True)\n",
        "\n",
        "# Tratamiento de valores ausentes en 'Embalses enriquecido'\n",
        "embalses_geo[\"LONG_CORON\"].fillna(embalses_geo[\"LONG_CORON\"].median(), inplace=True)\n",
        "embalses_geo[\"CAP_AL_NAE\"].fillna(embalses_geo[\"CAP_AL_NAE\"].median(), inplace=True)\n",
        "embalses_geo[\"CAP_MAX_DF\"].fillna(embalses_geo[\"CAP_MAX_DF\"].median(), inplace=True)\n",
        "embalses_geo[\"NMN_SUP\"].fillna(embalses_geo[\"NMN_SUP\"].median(), inplace=True)\n",
        "\n",
        "# Verificamos los valores nulos tras el tratamiento\n",
        "print(\"Valores nulos tras tratamiento en 'Datos embalses':\")\n",
        "print(embalses.isnull().sum())\n",
        "\n",
        "print(\"\\nValores nulos tras tratamiento en 'Embalses enriquecido':\")\n",
        "print(embalses_geo.isnull().sum())"
      ],
      "metadata": {
        "id": "nXcUk2uspgwp",
        "outputId": "52e06754-4e64-4e45-ae64-c8f2fe5c86eb",
        "colab": {
          "base_uri": "https://localhost:8080/"
        }
      },
      "execution_count": 31,
      "outputs": [
        {
          "output_type": "stream",
          "name": "stdout",
          "text": [
            "Valores nulos tras tratamiento en 'Datos embalses':\n",
            "demarcacion_hidrografica    0\n",
            "EMBALSE_NOMBRE              0\n",
            "fecha                       0\n",
            "capacidad_total             0\n",
            "volumen_actual              0\n",
            "dtype: int64\n",
            "\n",
            "Valores nulos tras tratamiento en 'Embalses enriquecido':\n",
            "coordenada_x      0\n",
            "coordenada_y      0\n",
            "INFORME           0\n",
            "ID_INFRAES        0\n",
            "CODIGO            0\n",
            "nombre_embalse    0\n",
            "EMBALSE           0\n",
            "FASE              0\n",
            "TITULAR           0\n",
            "CATEGORIA         0\n",
            "CAUCE             0\n",
            "DEMARC            0\n",
            "PROVINCIA         0\n",
            "CCAA              0\n",
            "TIPO              0\n",
            "USUARIOS          0\n",
            "USO               0\n",
            "SUP_CUENCA        0\n",
            "AP_M_ANUAL        0\n",
            "NMN_CAPAC         0\n",
            "NMN_SUP           0\n",
            "COTA_CORON        0\n",
            "ALT_CIMIEN        0\n",
            "LONG_CORON        0\n",
            "CAP_AL_NAE        0\n",
            "CAP_MAX_DF        0\n",
            "coordenadas       0\n",
            "dtype: int64\n"
          ]
        }
      ]
    },
    {
      "cell_type": "markdown",
      "metadata": {
        "id": "QKv72K34Vyjx"
      },
      "source": [
        "**Tratamiento de Valores Ausentes**"
      ]
    },
    {
      "cell_type": "markdown",
      "source": [
        "Dataset Histórico"
      ],
      "metadata": {
        "id": "5gpb0qf2psfA"
      }
    },
    {
      "cell_type": "code",
      "execution_count": 32,
      "metadata": {
        "id": "Ea9NGqiOs-AU",
        "colab": {
          "base_uri": "https://localhost:8080/"
        },
        "outputId": "37ffb3a4-3641-4aff-8572-18ab2c03bd30"
      },
      "outputs": [
        {
          "output_type": "stream",
          "name": "stdout",
          "text": [
            "Tratamiento de valores ausentes en 'Datos embalses':\n",
            "\n",
            "Valores nulos tras imputación en 'Datos embalses':\n",
            "demarcacion_hidrografica    0\n",
            "EMBALSE_NOMBRE              0\n",
            "fecha                       0\n",
            "capacidad_total             0\n",
            "volumen_actual              0\n",
            "dtype: int64\n",
            "\n",
            "Primeras filas del Dataset Histórico tras el tratamiento:\n",
            "  demarcacion_hidrografica EMBALSE_NOMBRE      fecha  capacidad_total  \\\n",
            "0               Miño - Sil     Albarellos 1988-01-05             91.0   \n",
            "1               Miño - Sil     Albarellos 1988-01-12             91.0   \n",
            "2               Miño - Sil     Albarellos 1988-01-19             91.0   \n",
            "3               Miño - Sil     Albarellos 1988-01-26             91.0   \n",
            "4               Miño - Sil     Albarellos 1988-02-02             91.0   \n",
            "\n",
            "   volumen_actual  \n",
            "0            32.0  \n",
            "1            44.0  \n",
            "2            42.0  \n",
            "3            43.0  \n",
            "4            65.0  \n"
          ]
        }
      ],
      "source": [
        "# Tratamiento de valores ausentes en 'Datos embalses'\n",
        "print(\"Tratamiento de valores ausentes en 'Datos embalses':\")\n",
        "\n",
        "# Verificar si el dataset está vacío antes de continuar\n",
        "if embalses.empty:\n",
        "    print(\"Advertencia: El dataset 'Datos embalses' está vacío antes del tratamiento.\")\n",
        "else:\n",
        "    # Imputamos valores faltantes en las columnas críticas con la media\n",
        "    embalses[\"capacidad_total\"].fillna(embalses[\"capacidad_total\"].mean(), inplace=True)\n",
        "    embalses[\"volumen_actual\"].fillna(embalses[\"volumen_actual\"].mean(), inplace=True)\n",
        "\n",
        "    # Verificamos nuevamente\n",
        "    print(\"\\nValores nulos tras imputación en 'Datos embalses':\")\n",
        "    print(embalses.isnull().sum())\n",
        "\n",
        "    # Mostrar las primeras filas del dataset\n",
        "    print(\"\\nPrimeras filas del Dataset Histórico tras el tratamiento:\")\n",
        "    print(embalses.head())\n",
        "\n",
        "# Verificar si el dataset sigue vacío después del tratamiento\n",
        "if embalses.empty:\n",
        "    print(\"Advertencia: El dataset 'Datos embalses' sigue vacío tras el tratamiento.\")"
      ]
    },
    {
      "cell_type": "markdown",
      "metadata": {
        "id": "FBBbKHW6fReA"
      },
      "source": [
        "Dataset Geográfico"
      ]
    },
    {
      "cell_type": "code",
      "execution_count": 34,
      "metadata": {
        "id": "jAX5NMINZWFs",
        "colab": {
          "base_uri": "https://localhost:8080/"
        },
        "outputId": "2d933ff0-a282-4f85-b6fc-673dd88ad2fe"
      },
      "outputs": [
        {
          "output_type": "stream",
          "name": "stdout",
          "text": [
            "\n",
            "Tratamiento de valores ausentes en 'Embalses enriquecido':\n",
            "\n",
            "Valores nulos tras el tratamiento en 'Embalses enriquecido':\n",
            "coordenada_x      0\n",
            "coordenada_y      0\n",
            "INFORME           0\n",
            "ID_INFRAES        0\n",
            "CODIGO            0\n",
            "nombre_embalse    0\n",
            "EMBALSE           0\n",
            "FASE              0\n",
            "TITULAR           0\n",
            "CATEGORIA         0\n",
            "CAUCE             0\n",
            "DEMARC            0\n",
            "PROVINCIA         0\n",
            "CCAA              0\n",
            "TIPO              0\n",
            "USUARIOS          0\n",
            "USO               0\n",
            "SUP_CUENCA        0\n",
            "AP_M_ANUAL        0\n",
            "NMN_CAPAC         0\n",
            "NMN_SUP           0\n",
            "COTA_CORON        0\n",
            "ALT_CIMIEN        0\n",
            "LONG_CORON        0\n",
            "CAP_AL_NAE        0\n",
            "CAP_MAX_DF        0\n",
            "coordenadas       0\n",
            "dtype: int64\n",
            "\n",
            "Primeras filas del Dataset Geográfico tras el tratamiento:\n",
            "   coordenada_x  coordenada_y  \\\n",
            "0     36.153615     -5.649731   \n",
            "1     42.722873     -0.462684   \n",
            "2     38.095562     -3.831098   \n",
            "3     43.277118     -1.773747   \n",
            "4     38.060263     -1.487653   \n",
            "\n",
            "                                             INFORME  ID_INFRAES   CODIGO  \\\n",
            "0  https://sig.mapama.gob.es/WebServices/clientew...        1364  5110039   \n",
            "1  https://sig.mapama.gob.es/WebServices/clientew...        2482  9220067   \n",
            "2  https://sig.mapama.gob.es/WebServices/clientew...        1543  5230007   \n",
            "3  https://sig.mapama.gob.es/WebServices/clientew...          84  1310009   \n",
            "4  https://sig.mapama.gob.es/WebServices/clientew...        2057  7300021   \n",
            "\n",
            "  nombre_embalse               EMBALSE         FASE  \\\n",
            "0      ALMODOVAR  Embalse de Almodóvar  Explotación   \n",
            "1     IBON DE IP          Ip reservoir  Explotación   \n",
            "2        ZOCUECA               ZOCUECA  Explotación   \n",
            "3      SAN ANTON             SAN ANTON  Explotación   \n",
            "4     CIERVA, LA  Embalse de la Cierva  Explotación   \n",
            "\n",
            "                                             TITULAR CATEGORIA  \\\n",
            "0  JUNTA DE ANDALUCIA. AGENCIA ANDALUZA DEL AGUA ...         A   \n",
            "1  ELECTRICAS REUNIDAS DE ZARAGOZA corporacion ac...         A   \n",
            "2  ESTADO CONFEDERACION HIDROGRAFICA DEL GUADALQU...         A   \n",
            "3              MANCOMUNIDAD DE SERVICIOS DE TXINGUDI         A   \n",
            "4       ESTADO CONFEDERACION HIDROGRAFICA DEL SEGURA         A   \n",
            "\n",
            "            CAUCE               DEMARC PROVINCIA                        CCAA  \\\n",
            "0   RÍO ALMODÓVAR  GUADALETE Y BARBATE     Cádiz                   Andalucía   \n",
            "1  BARRANCO DE IP                 EBRO    Huesca                      Aragón   \n",
            "2    RÍO  RUMBLAR         GUADALQUIVIR      Jaén                   Andalucía   \n",
            "3      RIO ENDARA  CANTABRICO ORIENTAL   Navarra  Comunidad Foral de Navarra   \n",
            "4        RIO MULA               SEGURA    Murcia            Región de Murcia   \n",
            "\n",
            "                                                TIPO         USUARIOS  \\\n",
            "0    Presa de fábrica de gravedad (hormigón vibrado)              - -   \n",
            "1  Presa de materiales sueltos zonificada o de nú...                -   \n",
            "2    Presa de fábrica de gravedad (hormigón vibrado)              - -   \n",
            "3  Presa de materiales sueltos de pantalla de hor...                -   \n",
            "4                    Presa de fábrica de mampostería  No especificado   \n",
            "\n",
            "                                      USO  SUP_CUENCA  AP_M_ANUAL  NMN_CAPAC  \\\n",
            "0  Abastecimiento Defensa frente avenidas        16.5        0.00      5.000   \n",
            "1                          Hidroeléctrico         8.0        4.56      5.000   \n",
            "2  Abastecimiento Defensa frente avenidas       370.0      100.00      5.000   \n",
            "3                          Abastecimiento        10.5       20.00      5.091   \n",
            "4  Abastecimiento Defensa frente avenidas       370.0      100.00      5.130   \n",
            "\n",
            "    NMN_SUP  COTA_CORON  ALT_CIMIEN  LONG_CORON  CAP_AL_NAE  CAP_MAX_DF  \\\n",
            "0  650200.0     107.200        40.0       126.0         0.0       92.20   \n",
            "1  270000.0    2119.000        31.0       158.0         0.0       20.00   \n",
            "2  480000.0     498.525        51.5       263.5         0.0       92.20   \n",
            "3  278170.0     247.000        56.8       210.0         0.0      150.48   \n",
            "4  432000.0     498.525        51.5       263.5         0.0   366000.00   \n",
            "\n",
            "                            coordenadas  \n",
            "0   36.1536149680001, -5.64973106899993  \n",
            "1  42.7228732190001, -0.462683542999969  \n",
            "2       38.095561881, -3.83109787299998  \n",
            "3       43.277117956, -1.77374675199997  \n",
            "4   38.0602631900001, -1.48765333199998  \n"
          ]
        }
      ],
      "source": [
        "print(\"\\nTratamiento de valores ausentes en 'Embalses enriquecido':\")\n",
        "\n",
        "# Eliminamos filas con valores nulos en columnas críticas\n",
        "embalses_geo = embalses_geo.dropna(subset=[\"nombre_embalse\", \"coordenada_x\", \"coordenada_y\"])\n",
        "\n",
        "# Rellenamos valores faltantes en columnas menos críticas con valores predeterminados\n",
        "embalses_geo[\"DEMARC\"] = embalses_geo[\"DEMARC\"].fillna(\"Desconocido\")\n",
        "embalses_geo[\"USO\"] = embalses_geo[\"USO\"].fillna(\"Sin especificar\")\n",
        "\n",
        "# Verificamos nuevamente\n",
        "print(\"\\nValores nulos tras el tratamiento en 'Embalses enriquecido':\")\n",
        "print(embalses_geo.isnull().sum())\n",
        "print(\"\\nPrimeras filas del Dataset Geográfico tras el tratamiento:\")\n",
        "print(embalses_geo.head())"
      ]
    },
    {
      "cell_type": "markdown",
      "metadata": {
        "id": "JVqRqL81WLg0"
      },
      "source": [
        "**Resultados**\n",
        "1. Los valores ausentes en columnas críticas han sido eliminados.\n",
        "2. Las columnas no críticas han sido rellenadas con valores predeterminados."
      ]
    },
    {
      "cell_type": "markdown",
      "metadata": {
        "id": "ahgjmOPhYEs9"
      },
      "source": [
        "## **5. Generación de Nuevas Variables**\n",
        "\n",
        "En esta sección, enriquecemos los datasets con nuevas variables derivadas de los datos existentes para facilitar análisis más profundos. También validamos que los datasets estén en buen estado antes de realizar los cálculos.\n",
        "\n",
        "### **Validación del Estado de los Datasets**\n",
        "\n",
        "Antes de generar nuevas variables, verificamos si los datasets están vacíos tras las operaciones previas de limpieza."
      ]
    },
    {
      "cell_type": "code",
      "source": [
        "# Verificamos si el dataset está vacío\n",
        "if embalses.empty:\n",
        "    print(\"Advertencia: El dataset 'embalses' está vacío después de la limpieza.\")\n",
        "else:\n",
        "    print(\"Dataset 'embalses' listo para generar nuevas variables.\")\n",
        "\n",
        "if embalses_geo.empty:\n",
        "    print(\"Advertencia: El dataset 'embalses_geo' está vacío después de la limpieza.\")\n",
        "else:\n",
        "    print(\"Dataset 'embalses_geo' listo para generar nuevas variables.\")"
      ],
      "metadata": {
        "id": "MPLwFuv-13sQ",
        "outputId": "904faa40-7440-4569-d0ff-e125d099ff4f",
        "colab": {
          "base_uri": "https://localhost:8080/"
        }
      },
      "execution_count": 17,
      "outputs": [
        {
          "output_type": "stream",
          "name": "stdout",
          "text": [
            "Advertencia: El dataset 'embalses' está vacío después de la limpieza.\n",
            "Dataset 'embalses_geo' listo para generar nuevas variables.\n"
          ]
        }
      ]
    },
    {
      "cell_type": "markdown",
      "source": [
        "### **Nuevas Variables Creadas**\n",
        "\n",
        "#### **Dataset Histórico (embalses)**\n",
        "1. **porcentaje_actual:** Porcentaje de llenado del embalse, calculado como (volumen_actual / capacidad_total) * 100.\n",
        "2. **año y mes:** Año y mes extraídos de la columna fecha.\n"
      ],
      "metadata": {
        "id": "vn05bXhf1q4U"
      }
    },
    {
      "cell_type": "code",
      "source": [
        "# Generamos nuevas variables en el Dataset Histórico\n",
        "embalses[\"porcentaje_actual\"] = (embalses[\"volumen_actual\"] / embalses[\"capacidad_total\"]) * 100\n",
        "embalses[\"año\"] = embalses[\"fecha\"].dt.year\n",
        "embalses[\"mes\"] = embalses[\"fecha\"].dt.month\n",
        "\n",
        "# Verificamos si hay valores nulos en las nuevas variables\n",
        "print(\"Valores nulos en las nuevas variables del Dataset Histórico:\")\n",
        "print(embalses[[\"porcentaje_actual\", \"año\", \"mes\"]].isnull().sum())\n",
        "\n",
        "# Mostramos las primeras filas para verificar\n",
        "print(\"\\nDataset 'Datos embalses' tras generación de nuevas variables:\")\n",
        "print(embalses.head())\n"
      ],
      "metadata": {
        "id": "9vJRldwj0S7p",
        "outputId": "a28f5b65-546f-45b3-8ecd-f8c596e6ba99",
        "colab": {
          "base_uri": "https://localhost:8080/"
        }
      },
      "execution_count": 13,
      "outputs": [
        {
          "output_type": "stream",
          "name": "stdout",
          "text": [
            "Valores nulos en las nuevas variables del Dataset Histórico:\n",
            "porcentaje_actual    0\n",
            "año                  0\n",
            "mes                  0\n",
            "dtype: int64\n",
            "\n",
            "Dataset 'Datos embalses' tras generación de nuevas variables:\n",
            "Empty DataFrame\n",
            "Columns: [demarcacion_hidrografica, EMBALSE_NOMBRE, fecha, capacidad_total, volumen_actual, porcentaje_actual, año, mes]\n",
            "Index: []\n"
          ]
        }
      ]
    },
    {
      "cell_type": "markdown",
      "metadata": {
        "id": "DcU_jmDQXFYK"
      },
      "source": [
        "**Dataset Geográfico (embalses_geo)**\n",
        "1. tipo_uso_limpio: Columna USO limpia, con caracteres innecesarios removidos.\n",
        "2. capacidad_total_calculada: Capacidad total calculada como la media entre NMN_CAPAC y CAP_MAX_DF.\n",
        "3. (Opcional) categoria_capacidad: Clasifica los embalses en \"Pequeño\", \"Mediano\" o \"Grande\" según la capacidad total calculada."
      ]
    },
    {
      "cell_type": "code",
      "execution_count": 14,
      "metadata": {
        "id": "g8VsCtWgYKWq",
        "colab": {
          "base_uri": "https://localhost:8080/"
        },
        "outputId": "64a8c788-1d86-4b7b-8eb8-d9c03e39e8c8"
      },
      "outputs": [
        {
          "output_type": "stream",
          "name": "stdout",
          "text": [
            "Valores nulos en las nuevas variables del Dataset Geográfico:\n",
            "tipo_uso_limpio              0\n",
            "capacidad_total_calculada    0\n",
            "categoria_capacidad          0\n",
            "dtype: int64\n",
            "\n",
            "Dataset 'Embalses enriquecido' tras generación de nuevas variables:\n",
            "   coordenada_x  coordenada_y  \\\n",
            "0     36.153615     -5.649731   \n",
            "1     42.722873     -0.462684   \n",
            "2     38.095562     -3.831098   \n",
            "3     43.277118     -1.773747   \n",
            "4     38.060263     -1.487653   \n",
            "\n",
            "                                             INFORME  ID_INFRAES   CODIGO  \\\n",
            "0  https://sig.mapama.gob.es/WebServices/clientew...        1364  5110039   \n",
            "1  https://sig.mapama.gob.es/WebServices/clientew...        2482  9220067   \n",
            "2  https://sig.mapama.gob.es/WebServices/clientew...        1543  5230007   \n",
            "3  https://sig.mapama.gob.es/WebServices/clientew...          84  1310009   \n",
            "4  https://sig.mapama.gob.es/WebServices/clientew...        2057  7300021   \n",
            "\n",
            "  nombre_embalse               EMBALSE Google Knowledge Graph ID  \\\n",
            "0      ALMODOVAR  Embalse de Almodóvar                       NaN   \n",
            "1     IBON DE IP          Ip reservoir                       NaN   \n",
            "2        ZOCUECA               ZOCUECA                       NaN   \n",
            "3      SAN ANTON             SAN ANTON                       NaN   \n",
            "4     CIERVA, LA  Embalse de la Cierva                       NaN   \n",
            "\n",
            "   OpenStreetMap relation ID         FASE  \\\n",
            "0                        NaN  Explotación   \n",
            "1                        NaN  Explotación   \n",
            "2                        NaN  Explotación   \n",
            "3                        NaN  Explotación   \n",
            "4                        NaN  Explotación   \n",
            "\n",
            "                                             TITULAR CATEGORIA  \\\n",
            "0  JUNTA DE ANDALUCIA. AGENCIA ANDALUZA DEL AGUA\\...         A   \n",
            "1  ELECTRICAS REUNIDAS DE ZARAGOZA\\ncorporacion a...         A   \n",
            "2  ESTADO\\nCONFEDERACION HIDROGRAFICA DEL GUADALQ...         A   \n",
            "3              MANCOMUNIDAD DE SERVICIOS DE TXINGUDI         A   \n",
            "4      ESTADO\\nCONFEDERACION HIDROGRAFICA DEL SEGURA         A   \n",
            "\n",
            "            CAUCE demarcacion_hidrografica PROVINCIA  \\\n",
            "0   RÍO ALMODÓVAR      GUADALETE Y BARBATE     Cádiz   \n",
            "1  BARRANCO DE IP                     EBRO    Huesca   \n",
            "2    RÍO  RUMBLAR             GUADALQUIVIR      Jaén   \n",
            "3      RIO ENDARA      CANTABRICO ORIENTAL   Navarra   \n",
            "4        RIO MULA                   SEGURA    Murcia   \n",
            "\n",
            "                         CCAA  \\\n",
            "0                   Andalucía   \n",
            "1                      Aragón   \n",
            "2                   Andalucía   \n",
            "3  Comunidad Foral de Navarra   \n",
            "4            Región de Murcia   \n",
            "\n",
            "                                                TIPO USUARIOS  \\\n",
            "0    Presa de fábrica de gravedad (hormigón vibrado)     -\\n-   \n",
            "1  Presa de materiales sueltos zonificada o de nú...        -   \n",
            "2    Presa de fábrica de gravedad (hormigón vibrado)     -\\n-   \n",
            "3  Presa de materiales sueltos de pantalla de hor...        -   \n",
            "4                    Presa de fábrica de mampostería      NaN   \n",
            "\n",
            "                                       USO  SUP_CUENCA  AP_M_ANUAL  NMN_CAPAC  \\\n",
            "0  Abastecimiento\\nDefensa frente avenidas        16.5        0.00      5.000   \n",
            "1                           Hidroeléctrico         8.0        4.56      5.000   \n",
            "2  Abastecimiento\\nDefensa frente avenidas         NaN         NaN      5.000   \n",
            "3                           Abastecimiento        10.5       20.00      5.091   \n",
            "4  Abastecimiento\\nDefensa frente avenidas         NaN         NaN      5.130   \n",
            "\n",
            "    NMN_SUP  COTA_CORON  ALT_CIMIEN  LONG_CORON  CAP_AL_NAE  CAP_MAX_DF  \\\n",
            "0  650200.0       107.2        40.0       126.0         0.0         NaN   \n",
            "1  270000.0      2119.0        31.0       158.0         0.0       20.00   \n",
            "2  480000.0         NaN         NaN         NaN         0.0         NaN   \n",
            "3  278170.0       247.0        56.8       210.0         0.0      150.48   \n",
            "4  432000.0         NaN         NaN         NaN         0.0   366000.00   \n",
            "\n",
            "                            coordenadas  \\\n",
            "0   36.1536149680001, -5.64973106899993   \n",
            "1  42.7228732190001, -0.462683542999969   \n",
            "2       38.095561881, -3.83109787299998   \n",
            "3       43.277117956, -1.77374675199997   \n",
            "4   38.0602631900001, -1.48765333199998   \n",
            "\n",
            "                          tipo_uso_limpio  capacidad_total_calculada  \\\n",
            "0  Abastecimiento Defensa frente avenidas                     5.0000   \n",
            "1                          Hidroeléctrico                    12.5000   \n",
            "2  Abastecimiento Defensa frente avenidas                     5.0000   \n",
            "3                          Abastecimiento                    77.7855   \n",
            "4  Abastecimiento Defensa frente avenidas                183002.5650   \n",
            "\n",
            "  categoria_capacidad  \n",
            "0             Pequeño  \n",
            "1             Pequeño  \n",
            "2             Pequeño  \n",
            "3             Pequeño  \n",
            "4              Grande  \n"
          ]
        }
      ],
      "source": [
        "# Limpiamos la columna \"USO\" para crear una versión más legible\n",
        "embalses_geo[\"tipo_uso_limpio\"] = embalses_geo[\"USO\"].str.replace(\"\\n\", \" \").str.strip()\n",
        "\n",
        "# Generamos una nueva columna \"capacidad_total_calculada\" basada en columnas existentes\n",
        "embalses_geo[\"capacidad_total_calculada\"] = embalses_geo[[\"NMN_CAPAC\", \"CAP_MAX_DF\"]].mean(axis=1)\n",
        "\n",
        "# Clasificación opcional de embalses por capacidad\n",
        "def clasificar_capacidad(capacidad):\n",
        "    if capacidad < 100:\n",
        "        return \"Pequeño\"\n",
        "    elif capacidad < 500:\n",
        "        return \"Mediano\"\n",
        "    else:\n",
        "        return \"Grande\"\n",
        "\n",
        "embalses_geo[\"categoria_capacidad\"] = embalses_geo[\"capacidad_total_calculada\"].apply(clasificar_capacidad)\n",
        "\n",
        "# Verificamos si hay valores nulos en las nuevas variables\n",
        "print(\"Valores nulos en las nuevas variables del Dataset Geográfico:\")\n",
        "print(embalses_geo[[\"tipo_uso_limpio\", \"capacidad_total_calculada\", \"categoria_capacidad\"]].isnull().sum())\n",
        "\n",
        "# Mostramos las primeras filas para verificar\n",
        "print(\"\\nDataset 'Embalses enriquecido' tras generación de nuevas variables:\")\n",
        "print(embalses_geo.head())\n"
      ]
    },
    {
      "cell_type": "markdown",
      "metadata": {
        "id": "h6t_RlGZosKU"
      },
      "source": [
        "**Resultados**\n",
        "1. Dataset Histórico: Incluye las nuevas variables porcentaje_actual, año, y mes.\n",
        "2. Dataset Geográfico: Incluye las nuevas variables tipo_uso_limpio y capacidad_total_calculada."
      ]
    },
    {
      "cell_type": "markdown",
      "metadata": {
        "id": "SfBA-fb5FoZw"
      },
      "source": [
        "## 6. Creación de tabla para visualización \"Evolución histórica de la reserva hídrica entre los años 2012 y 2022\"\n",
        "Generamos la primera tabla de datos preparada para alimentar la herramienta de visualización que vamos a utilizar, Google Data Studio.\n",
        "\n",
        "Para ello **filtramos** el dataset para obtener los datos entre el **01/01/2012 y el 01/01/2022**\n",
        "\n",
        "\n",
        "\n",
        "\n"
      ]
    },
    {
      "cell_type": "code",
      "execution_count": null,
      "metadata": {
        "id": "1K9jeK3KJUnM"
      },
      "outputs": [],
      "source": [
        "# Filtramos el dataset para quedarnos con los valores históricos del 2012 al 2022\n",
        "tabla_lin = embalses[(embalses[\"fecha\"]>\"01/01/2012\") & (embalses[\"fecha\"]<\"01/01/2022\")]\n",
        "tabla_lin.head()"
      ]
    },
    {
      "cell_type": "markdown",
      "metadata": {
        "id": "-G5WP4Q3Ji5i"
      },
      "source": [
        "Visualizamos las 5 primeras filas de la tabla y comprobamos que se ha **filtrado** correctamente."
      ]
    },
    {
      "cell_type": "markdown",
      "metadata": {
        "id": "lsWcz4LQ16dj"
      },
      "source": [
        "## 7. Creación de tabla para visualización \"Reserva hídrica (hm3) entre los años 2012 y 2022\"\n",
        "\n",
        "Generamos **una nueva tabla de datos** preparada para alimentar la herramienta de visualización que vamos a utilizar, Google Data Studio.\n",
        "\n",
        "Para ello partimos del **dataset filtrado** en el apartado anterior. **Agrupamos** las variables por embalse, **calculamos la media** de los registros del volumen de agua y **renombramos** la nueva variable.\n",
        "\n",
        "\n",
        "*   Para agrupar las varibles utilizamos la función [.groupby()](https://pandas.pydata.org/docs/reference/api/pandas.DataFrame.groupby.html)\n",
        "\n",
        "*   Para renombrar las variables utilizamos las funciones [.rename()](https://pandas.pydata.org/docs/reference/api/pandas.DataFrame.rename.html)\n",
        "\n",
        "\n",
        "\n",
        "\n",
        "\n"
      ]
    },
    {
      "cell_type": "code",
      "execution_count": null,
      "metadata": {
        "id": "qG8NYE_t5hrW"
      },
      "outputs": [],
      "source": [
        "# Agrupamos el dataset por nombre del embalse y generamos una columna con la media del volumen\n",
        "tabla_vol = round(tabla_lin.groupby([\"demarcacion_hidrografica\", \"embalse_nombre\"])[\"volumen_actual\"].mean().reset_index(),2)\n",
        "\n",
        "# Renombramos la nueva columna generada\n",
        "tabla_vol = tabla_vol.rename(columns= {\"volumen_actual\": \"volumen_medio_10\"})\n",
        "tabla_vol.head()\n"
      ]
    },
    {
      "cell_type": "markdown",
      "metadata": {
        "id": "Lumwtt_g2vPY"
      },
      "source": [
        "Una vez generada la tabla **\"tabla_vol\"** la visualizamos para comprobar que los datos son correctos. En este caso se comprueba que se ha calculado el valor medio de volumen de agua por embalse y ha sido almacenada en una nueva variable \"**\"volumen_medio_10\"**\n"
      ]
    },
    {
      "cell_type": "markdown",
      "metadata": {
        "id": "QNhGEDLE1JOp"
      },
      "source": [
        "## 8. Creación de tabla para visualización \"Reserva hídrica (%) entre los años 2012 y 2022\""
      ]
    },
    {
      "cell_type": "markdown",
      "metadata": {
        "id": "0MYHVdimoxHb"
      },
      "source": [
        "Generamos una **nueva tabla de datos** preparada para alimentar la herramienta de visualización que vamos a utilizar, Google Data Studio.\n",
        "\n",
        "Para ello partimos del **dataset filtrado** en el apartado anterior. **Agrupamos** las variables por embalse, **calculamos la media** de los registros del porcentaje de llenado y **renombramos** la nueva variable.\n",
        "\n",
        "\n",
        "*   Para agrupar las varibles utilizamos la función [.groupby()](https://pandas.pydata.org/docs/reference/api/pandas.DataFrame.groupby.html)\n",
        "\n",
        "*   Para renombrar las variables utilizamos las funciones [.rename()](https://pandas.pydata.org/docs/reference/api/pandas.DataFrame.rename.html)\n",
        "\n"
      ]
    },
    {
      "cell_type": "code",
      "execution_count": null,
      "metadata": {
        "id": "ciG0LDOX2axa"
      },
      "outputs": [],
      "source": [
        "# Agrupamos el dataset por nombre del embalse y generamos una columna con la media del porcentaje\n",
        "tabla_por = round(tabla_lin.groupby([\"demarcacion_hidrografica\", \"embalse_nombre\"])[\"porcentaje_actual\"].mean().reset_index(),2)\n",
        "\n",
        "# Renombramos la nueva columna generada\n",
        "tabla_por = tabla_por.rename(columns= {\"porcentaje_actual\": \"porcentaje_medio_10\"})\n",
        "tabla_por.head()"
      ]
    },
    {
      "cell_type": "markdown",
      "metadata": {
        "id": "3OuTSrX65DHM"
      },
      "source": [
        "Una vez generada la tabla **\"tabla_por\"** la visualizamos para comprobar que los datos son correctos. En este caso se comprueba que ha sido calculado el valor medio de porcentaje de llenado por embalse y ha sido almacenado en una nueva variable \"**\"porcentaje_medio_10\"**"
      ]
    },
    {
      "cell_type": "markdown",
      "metadata": {
        "id": "hEkubFARRTYf"
      },
      "source": [
        "## 9. Creación de tabla para visualización \"Evolución mensual de la reserva hídrica (hm3)\"\n",
        "\n",
        "Generamos una **nueva tabla de datos** preparada para alimentar la herramienta de visualización que vamos a utilizar, **Google Data Studio**.\n",
        "\n",
        "Esta tabla contiene los datos medios de volumen de agua embalsada por mes para distintas series temporales. Esta series temporales corresponden a los años **2012, 2013, 2014, 2015, 2016, 2017, 2018, 2019, 2020 y 2021**.\n",
        "\n",
        "Para ello partimos del **dataset filtrado en el apartado 5** con los datos pertenecientes al periodo temporal entre el 01/01/2012 y el 01/01/2022. Una vez filtrado, **agrupamos** las variables por embalse y mes, **calculamos la media** de los registros del volumen de agua y **renombramos** la nueva variable.\n",
        "\n",
        "\n",
        "*   Para agrupar las varibles utilizamos la función [groupby()](https://pandas.pydata.org/docs/reference/api/pandas.DataFrame.groupby.html)\n",
        "\n",
        "*   Para renombrar las variables utilizamos la funciones [.rename()](https://pandas.pydata.org/docs/reference/api/pandas.DataFrame.rename.html)\n",
        "\n",
        "*   Para unir las tablas en utilizamos la función [.merge()](https://pandas.pydata.org/docs/reference/api/pandas.DataFrame.merge.html)"
      ]
    },
    {
      "cell_type": "code",
      "execution_count": null,
      "metadata": {
        "id": "0uuJU2lk6yKI"
      },
      "outputs": [],
      "source": [
        "# Creamos una lista con las fechas iniciales y finales de las series temporales\n",
        "lista = [\"01/01/2012\", \"01/01/2013\", \"01/01/2014\", \"01/01/2015\", \"01/01/2016\", \"01/01/2017\", \"01/01/2018\", \"01/01/2019\", \"01/01/2020\", \"01/01/2021\", \"01/01/2022\"]\n",
        "\n",
        "# Creamos un bucle que recorra la lista anterior\n",
        "for i in range(len(lista)-1):\n",
        "    # Filtramos el dataset con los datos correspondientes a cada una de las series temporales\n",
        "    tabla_mini = tabla_lin[(embalses[\"fecha\"] > lista[i]) & (embalses[\"fecha\"]<lista[i+1])]\n",
        "    # Agrupamos el dataset por demarcación hidrográfica, nombre del embalse y mes. Generamos una columna con la media del volumen\n",
        "    lin = tabla_mini.groupby([\"demarcacion_hidrografica\",\"embalse_nombre\", \"mes\"])[\"volumen_actual\"].mean().reset_index()\n",
        "    # Renombramos la nueva columna generada con el valor medio\n",
        "    lin = lin.rename(columns= {\"volumen_actual\": lista[i].split(\"/\")[2]})\n",
        "\n",
        "    # Unificamos los datos de las distintas series temporales en una misma tabla\n",
        "    if i == 0:\n",
        "      tabla_lin_mes = lin\n",
        "    else:\n",
        "      tabla_lin_mes = tabla_lin_mes.merge(lin, on=[\"demarcacion_hidrografica\",\"embalse_nombre\",\"mes\"], how = \"inner\")\n",
        "\n",
        "tabla_lin_mes.head()"
      ]
    },
    {
      "cell_type": "markdown",
      "metadata": {
        "id": "4OByVfD97GqF"
      },
      "source": [
        "Una vez generada la tabla **\"tabla_lin_mes\"** la visualizamos para comprobar que los datos son correctos. En este caso se comprueba que los datos del \"volumen_actual\" han sido agrupados por **mes** y en las **distintas series temporales** previamente especificadas."
      ]
    },
    {
      "cell_type": "markdown",
      "metadata": {
        "id": "gKe2E_R3nIP1"
      },
      "source": [
        "## 10. Guardado de las tablas para la generación de la visualización.\n",
        "\n",
        "Una vez que tenemos las tablas con la estructura y variables que nos interesan para realizar la visualización de los datos, lo guardaremos como archivo de datos en formato **CSV** para posteriormente realizar otros análisis estadísticos o utilizarlo en otras herramientas de visualización de datos como la que abordamos a continuación. Es importante guardarlo con una codificación **UTF-8** (Formato de Transformación Unicode) para que los caracteres especiales sean identificados de manera correcta por cualquier software.\n",
        "\n",
        "*   Para guardar las tablas como archivos CSV utilizamos la función [.to_csv()](https://pandas.pydata.org/docs/reference/api/pandas.DataFrame.to_csv.html)\n",
        "\n",
        "\n"
      ]
    },
    {
      "cell_type": "code",
      "execution_count": null,
      "metadata": {
        "id": "oCWv-S6AscQE"
      },
      "outputs": [],
      "source": [
        "# Guardamos las tablas como archivos csv.\n",
        "tabla_lin.to_csv(\"lineas.csv\", index = False, encoding = \"utf-8\")\n",
        "tabla_vol.to_csv(\"volumen.csv\", index = False, encoding = \"utf-8\")\n",
        "tabla_por.to_csv(\"porcentaje.csv\", index = False, encoding = \"utf-8\")\n",
        "tabla_lin_mes.to_csv(\"lineas_mensual.csv\", index = False, encoding = \"utf-8\")\n",
        "embalses_geo.to_csv(\"geo.csv\", index = False, encoding = \"utf-8\")\n",
        "\n",
        "\n",
        "\n"
      ]
    },
    {
      "cell_type": "markdown",
      "metadata": {
        "id": "AQXL49kOqJjW"
      },
      "source": [
        "Una vez generados los archivos, en el menú desplegable de la izquierda de esta pantalla, en la sección \"Archivos\" (el icono de la carpeta), encontraremos los archivos que acabamos de guardar dentro de la carpeta \"sample_data\". Usando el menú contextual, los ficheros pueden ser descargados.\n",
        "\n",
        "No obstante, dispones de estos conjuntos de datos preprocesados en esta carpeta del Laboratorio de datos del GitHub de datos.gob.es.\n",
        "\n",
        "A contintuación, puedes seguir los siguientes pasos para visualizar los datos que acabamos de preprocesar utilizando la herramienta Google Data Studio en el post *(añadir nombre y enlace al post)*"
      ]
    }
  ],
  "metadata": {
    "colab": {
      "name": "Análisis del estado y evolución de los embalses de agua nacionales.ipynb",
      "provenance": [],
      "include_colab_link": true
    },
    "kernelspec": {
      "display_name": "Python 3",
      "name": "python3"
    },
    "language_info": {
      "name": "python"
    }
  },
  "nbformat": 4,
  "nbformat_minor": 0
}